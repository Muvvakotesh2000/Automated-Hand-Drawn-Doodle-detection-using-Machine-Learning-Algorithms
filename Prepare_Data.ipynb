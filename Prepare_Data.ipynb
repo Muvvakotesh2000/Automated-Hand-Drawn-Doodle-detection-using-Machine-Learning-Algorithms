{
 "cells": [
  {
   "cell_type": "code",
   "execution_count": 1,
   "metadata": {
    "colab": {},
    "colab_type": "code",
    "id": "99RLec59lrfC"
   },
   "outputs": [],
   "source": [
    "dataset_path = 'quickdraw/'"
   ]
  },
  {
   "cell_type": "code",
   "execution_count": 2,
   "metadata": {
    "colab": {},
    "colab_type": "code",
    "id": "msUKv55oPkLu"
   },
   "outputs": [],
   "source": [
    "import os\n",
    "import numpy as np\n",
    "import matplotlib.pyplot as plt"
   ]
  },
  {
   "cell_type": "code",
   "execution_count": 3,
   "metadata": {
    "colab": {
     "base_uri": "https://localhost:8080/",
     "height": 408
    },
    "colab_type": "code",
    "id": "TH7lvnU3mOe9",
    "outputId": "02cebe52-7651-4173-eccd-df9be948e5f3",
    "scrolled": true
   },
   "outputs": [
    {
     "data": {
      "text/plain": [
       "['.ipynb_checkpoints',\n",
       " 'full_numpy_bitmap_airplane.npy',\n",
       " 'full_numpy_bitmap_alarm clock.npy',\n",
       " 'full_numpy_bitmap_banana.npy',\n",
       " 'full_numpy_bitmap_baseball bat.npy',\n",
       " 'full_numpy_bitmap_bicycle.npy',\n",
       " 'full_numpy_bitmap_candle.npy',\n",
       " 'full_numpy_bitmap_car.npy',\n",
       " 'full_numpy_bitmap_crown.npy',\n",
       " 'full_numpy_bitmap_dumbbell.npy',\n",
       " 'full_numpy_bitmap_eye.npy',\n",
       " 'full_numpy_bitmap_fish.npy',\n",
       " 'full_numpy_bitmap_flower.npy',\n",
       " 'full_numpy_bitmap_hat.npy',\n",
       " 'full_numpy_bitmap_headphones.npy',\n",
       " 'full_numpy_bitmap_ice cream.npy',\n",
       " 'full_numpy_bitmap_knife.npy',\n",
       " 'full_numpy_bitmap_pants.npy',\n",
       " 'full_numpy_bitmap_shoe.npy',\n",
       " 'full_numpy_bitmap_umbrella.npy',\n",
       " 'full_numpy_bitmap_windmill.npy',\n",
       " 'test',\n",
       " 'train',\n",
       " 'valid']"
      ]
     },
     "execution_count": 3,
     "metadata": {},
     "output_type": "execute_result"
    }
   ],
   "source": [
    "os.listdir(dataset_path)"
   ]
  },
  {
   "cell_type": "code",
   "execution_count": 4,
   "metadata": {
    "colab": {
     "base_uri": "https://localhost:8080/",
     "height": 408
    },
    "colab_type": "code",
    "id": "2060LPvGqaMX",
    "outputId": "22eb0b86-36a5-410d-886e-9dab67387090",
    "scrolled": true
   },
   "outputs": [
    {
     "data": {
      "text/plain": [
       "['checkpoints',\n",
       " 'airplane',\n",
       " 'alarm clock',\n",
       " 'banana',\n",
       " 'baseball bat',\n",
       " 'bicycle',\n",
       " 'candle',\n",
       " 'car',\n",
       " 'crown',\n",
       " 'dumbbell',\n",
       " 'eye',\n",
       " 'fish',\n",
       " 'flower',\n",
       " 'hat',\n",
       " 'headphones',\n",
       " 'ice cream',\n",
       " 'knife',\n",
       " 'pants',\n",
       " 'shoe',\n",
       " 'umbrella',\n",
       " 'windmill',\n",
       " 'test',\n",
       " 'train',\n",
       " 'valid']"
      ]
     },
     "execution_count": 4,
     "metadata": {},
     "output_type": "execute_result"
    }
   ],
   "source": [
    "files = os.listdir(dataset_path)\n",
    "classes = [f.split('_')[-1].split('.')[0] for f in files]\n",
    "classes"
   ]
  },
  {
   "cell_type": "code",
   "execution_count": 6,
   "metadata": {
    "colab": {},
    "colab_type": "code",
    "id": "R75s3j0t3rXz"
   },
   "outputs": [],
   "source": [
    "os.makedirs(dataset_path + 'test/')\n",
    "os.makedirs(dataset_path + 'valid/')\n",
    "os.makedirs(dataset_path + 'train/')"
   ]
  },
  {
   "cell_type": "code",
   "execution_count": 7,
   "metadata": {
    "colab": {},
    "colab_type": "code",
    "id": "OhFOUVUb0nmI"
   },
   "outputs": [
    {
     "name": "stdout",
     "output_type": "stream",
     "text": [
      "full_numpy_bitmap_crown.npy\n",
      "full_numpy_bitmap_pants.npy\n"
     ]
    }
   ],
   "source": [
    "for f in files:\n",
    "    if f != 'full_numpy_bitmap_pants.npy' and f != 'full_numpy_bitmap_crown.npy':\n",
    "        continue\n",
    "    print(f)\n",
    "    dataset = np.load(dataset_path+f)\n",
    "    np.random.shuffle(dataset)\n",
    "    dataset = dataset[:35000]\n",
    "    test, val, train = np.split(dataset, [int(0.2*len(dataset)), int(0.44*len(dataset))])\n",
    "    np.save(dataset_path + 'test/' + f, test)\n",
    "    np.save(dataset_path + 'valid/' + f, val)\n",
    "    np.save(dataset_path + 'train/' + f, train)"
   ]
  },
  {
   "cell_type": "code",
   "execution_count": 8,
   "metadata": {
    "colab": {},
    "colab_type": "code",
    "id": "HzvlEW559T02"
   },
   "outputs": [],
   "source": [
    "et = np.load(dataset_path+'full_numpy_bitmap_pants.npy')"
   ]
  },
  {
   "cell_type": "code",
   "execution_count": 9,
   "metadata": {
    "colab": {
     "base_uri": "https://localhost:8080/",
     "height": 34
    },
    "colab_type": "code",
    "id": "o2cNU-nsY04U",
    "outputId": "0abbe41a-60a2-41c3-cc2f-faf6fec59961"
   },
   "outputs": [
    {
     "data": {
      "text/plain": [
       "(144264, 784)"
      ]
     },
     "execution_count": 9,
     "metadata": {},
     "output_type": "execute_result"
    }
   ],
   "source": [
    "et.shape"
   ]
  },
  {
   "cell_type": "code",
   "execution_count": 10,
   "metadata": {
    "colab": {
     "base_uri": "https://localhost:8080/",
     "height": 176
    },
    "colab_type": "code",
    "id": "lG3J4ur3Siv5",
    "outputId": "8683780e-de7c-49f2-a2aa-02589c8001b0"
   },
   "outputs": [
    {
     "data": {
      "text/plain": [
       "<matplotlib.image.AxesImage at 0x291c4617070>"
      ]
     },
     "execution_count": 10,
     "metadata": {},
     "output_type": "execute_result"
    },
    {
     "data": {
      "image/png": "[encoded data removed]",
      "text/plain": [
       "<Figure size 200x200 with 1 Axes>"
      ]
     },
     "metadata": {},
     "output_type": "display_data"
    }
   ],
   "source": [
    "plt.figure(figsize=(2,2))\n",
    "plt.imshow(et[3].reshape(28,28))"
   ]
  },
  {
   "cell_type": "code",
   "execution_count": 11,
   "metadata": {
    "colab": {},
    "colab_type": "code",
    "id": "21PAt-EQ64hC"
   },
   "outputs": [],
   "source": [
    " import os"
   ]
  },
  {
   "cell_type": "code",
   "execution_count": 12,
   "metadata": {
    "colab": {},
    "colab_type": "code",
    "id": "e2hp34fU653a"
   },
   "outputs": [],
   "source": [
    "data_dir = '/content/gdrive/My Drive/quickdraw/'"
   ]
  },
  {
   "cell_type": "code",
   "execution_count": 13,
   "metadata": {
    "colab": {},
    "colab_type": "code",
    "id": "T_STD9uA7Fi6"
   },
   "outputs": [],
   "source": [
    "data = 'tinyquickdraw/'"
   ]
  },
  {
   "cell_type": "code",
   "execution_count": 16,
   "metadata": {
    "colab": {},
    "colab_type": "code",
    "id": "hi2pJc3Z7MBk"
   },
   "outputs": [
    {
     "ename": "TypeError",
     "evalue": "exists() missing 1 required positional argument: 'path'",
     "output_type": "error",
     "traceback": [
      "\u001b[1;31m---------------------------------------------------------------------------\u001b[0m",
      "\u001b[1;31mTypeError\u001b[0m                                 Traceback (most recent call last)",
      "Cell \u001b[1;32mIn [16], line 1\u001b[0m\n\u001b[1;32m----> 1\u001b[0m \u001b[43mos\u001b[49m\u001b[38;5;241;43m.\u001b[39;49m\u001b[43mpath\u001b[49m\u001b[38;5;241;43m.\u001b[39;49m\u001b[43mexists\u001b[49m\u001b[43m(\u001b[49m\u001b[43m)\u001b[49m\n\u001b[0;32m      2\u001b[0m os\u001b[38;5;241m.\u001b[39mmkdirs(os\u001b[38;5;241m.\u001b[39mpath\u001b[38;5;241m.\u001b[39mjoin(data_dir, \u001b[38;5;124m'\u001b[39m\u001b[38;5;124mairplane\u001b[39m\u001b[38;5;124m'\u001b[39m))\n",
      "\u001b[1;31mTypeError\u001b[0m: exists() missing 1 required positional argument: 'path'"
     ]
    }
   ],
   "source": [
    "os.path.exists()\n",
    "os.mkdirs(os.path.join(data_dir, 'airplane'))"
   ]
  },
  {
   "cell_type": "code",
   "execution_count": 0,
   "metadata": {
    "colab": {},
    "colab_type": "code",
    "id": "5nc0xdNxlNQr"
   },
   "outputs": [],
   "source": []
  }
 ],
 "metadata": {
  "accelerator": "GPU",
  "colab": {
   "collapsed_sections": [],
   "name": "CV_MidTerm_Quickdraw.ipynb",
   "provenance": [],
   "version": "0.3.2"
  },
  "kernelspec": {
   "display_name": "Python 3 (ipykernel)",
   "language": "python",
   "name": "python3"
  },
  "language_info": {
   "codemirror_mode": {
    "name": "ipython",
    "version": 3
   },
   "file_extension": ".py",
   "mimetype": "text/x-python",
   "name": "python",
   "nbconvert_exporter": "python",
   "pygments_lexer": "ipython3",
   "version": "3.9.0"
  }
 },
 "nbformat": 4,
 "nbformat_minor": 1
}
